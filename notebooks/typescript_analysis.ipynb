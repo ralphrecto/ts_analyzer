{
 "cells": [
  {
   "cell_type": "markdown",
   "metadata": {},
   "source": [
    "# TypeScript Codebase Analysis\n",
    "\n",
    "This notebook demonstrates how to use the `ts-analyzer` module to analyze TypeScript codebases."
   ]
  },
  {
   "cell_type": "code",
   "execution_count": 1,
   "metadata": {
    "execution": {
     "iopub.execute_input": "2025-03-10T02:45:03.574949Z",
     "iopub.status.busy": "2025-03-10T02:45:03.574521Z",
     "iopub.status.idle": "2025-03-10T02:45:04.066108Z",
     "shell.execute_reply": "2025-03-10T02:45:04.065833Z"
    }
   },
   "outputs": [],
   "source": [
    "# Import the ts-analyzer module\n",
    "from ts_analyzer import TypeScriptAnalyzer\n",
    "import os\n",
    "import json\n",
    "from pathlib import Path\n",
    "import matplotlib.pyplot as plt\n",
    "import pandas as pd\n",
    "import seaborn as sns\n",
    "\n",
    "# Configure matplotlib for better visualization\n",
    "plt.style.use('ggplot')\n",
    "%matplotlib inline"
   ]
  },
  {
   "cell_type": "markdown",
   "metadata": {},
   "source": [
    "## Initialize the Analyzer\n",
    "\n",
    "First, we need to initialize the analyzer with the path to our TypeScript codebase. Make sure to update the path to point to your TypeScript project."
   ]
  },
  {
   "cell_type": "code",
   "execution_count": 2,
   "metadata": {
    "execution": {
     "iopub.execute_input": "2025-03-10T02:45:04.067691Z",
     "iopub.status.busy": "2025-03-10T02:45:04.067538Z",
     "iopub.status.idle": "2025-03-10T02:45:04.136868Z",
     "shell.execute_reply": "2025-03-10T02:45:04.136546Z"
    }
   },
   "outputs": [
    {
     "name": "stdout",
     "output_type": "stream",
     "text": [
      "Found 20 TypeScript files\n",
      " - /Users/ralph/projects/spellcast/packages/ui/src/api.ts\n",
      " - /Users/ralph/projects/spellcast/packages/ui/src/util.ts\n",
      " - /Users/ralph/projects/spellcast/packages/ui/src/hooks/useClient.ts\n",
      " - /Users/ralph/projects/spellcast/packages/ui/src/hooks/useSession.ts\n",
      " - /Users/ralph/projects/spellcast/packages/ui/src/hooks/useWindowSize.ts\n"
     ]
    }
   ],
   "source": [
    "# Path to your TypeScript codebase\n",
    "# Change this to the path of your TypeScript project\n",
    "CODEBASE_PATH = \"/Users/ralph/projects/spellcast\"\n",
    "\n",
    "# Initialize the analyzer\n",
    "analyzer = TypeScriptAnalyzer(CODEBASE_PATH)\n",
    "\n",
    "# Find all TypeScript files in the codebase\n",
    "ts_files = analyzer.find_ts_files()\n",
    "print(f\"Found {len(ts_files)} TypeScript files\")\n",
    "\n",
    "# Display the first 5 files\n",
    "for file in ts_files[:5]:\n",
    "    print(f\" - {file}\")"
   ]
  },
  {
   "cell_type": "markdown",
   "metadata": {},
   "source": [
    "## Analyze Imports\n",
    "\n",
    "Let's analyze imports in the codebase to understand dependencies between files and modules."
   ]
  },
  {
   "cell_type": "code",
   "execution_count": 3,
   "metadata": {
    "execution": {
     "iopub.execute_input": "2025-03-10T02:45:04.156404Z",
     "iopub.status.busy": "2025-03-10T02:45:04.156234Z",
     "iopub.status.idle": "2025-03-10T02:45:04.235171Z",
     "shell.execute_reply": "2025-03-10T02:45:04.234903Z"
    }
   },
   "outputs": [
    {
     "name": "stdout",
     "output_type": "stream",
     "text": [
      "Found 6 files that import 'react'\n",
      "\n",
      "File: /Users/ralph/projects/spellcast/packages/ui/src/util.ts\n",
      "  Line 2: import React from \"react\";\n",
      "\n",
      "File: /Users/ralph/projects/spellcast/packages/ui/src/hooks/useClient.ts\n",
      "  Line 2: import { useEffect, useState, useCallback } from \"react\";\n",
      "\n",
      "File: /Users/ralph/projects/spellcast/packages/ui/src/hooks/useSession.ts\n",
      "  Line 1: import { useCallback, useEffect, useState } from \"react\";\n"
     ]
    }
   ],
   "source": [
    "# Find imports of a specific module or class\n",
    "# Replace 'react' with any module/class you want to find imports for\n",
    "imports = analyzer.find_imports('react')\n",
    "\n",
    "print(f\"Found {len(imports)} files that import 'react'\")\n",
    "\n",
    "# Display a sample of the imports\n",
    "for file_path, file_imports in list(imports.items())[:3]:\n",
    "    print(f\"\\nFile: {file_path}\")\n",
    "    for imp in file_imports:\n",
    "        print(f\"  Line {imp['line']}: {imp['text']}\")"
   ]
  },
  {
   "cell_type": "markdown",
   "metadata": {},
   "source": [
    "## Find Function Calls\n",
    "\n",
    "We can identify where specific functions are being called in the codebase."
   ]
  },
  {
   "cell_type": "code",
   "execution_count": 4,
   "metadata": {
    "execution": {
     "iopub.execute_input": "2025-03-10T02:45:04.236546Z",
     "iopub.status.busy": "2025-03-10T02:45:04.236441Z",
     "iopub.status.idle": "2025-03-10T02:45:04.308600Z",
     "shell.execute_reply": "2025-03-10T02:45:04.308223Z"
    }
   },
   "outputs": [
    {
     "name": "stdout",
     "output_type": "stream",
     "text": [
      "Found 4 files with calls to 'useState'\n",
      "\n",
      "File: /Users/ralph/projects/spellcast/packages/ui/src/hooks/useClient.ts\n",
      "  Line 23: useEffect(() => {\n",
      "        if (!session) return;\n",
      "\n",
      "        const websocket = new WebSocket(url);\n",
      "\n",
      "        websocket.onopen = () => {\n",
      "            setWebsocket(websocket);\n",
      "            websocket.send(codecs.MessageJsonCodec.encode({type: 'syncRequest'}));\n",
      "        };\n",
      "\n",
      "        // TODO handle onerror\n",
      "        // TODO heartbeat with ping/pong messages\n",
      "\n",
      "        return () => {\n",
      "            websocket.close()\n",
      "        };\n",
      "    }, [url, session])\n",
      "    args: [\"() => {\\n        if (!session) return;\\n\\n        const websocket = new WebSocket(url);\\n\\n        websocket.onopen = () => {\\n            setWebsocket(websocket);\\n            websocket.send(codecs.MessageJsonCodec.encode({type: 'syncRequest'}));\\n        };\\n\\n        // TODO handle onerror\\n        // TODO heartbeat with ping/pong messages\\n\\n        return () => {\\n            websocket.close()\\n        };\\n    }\", '[url, session]']\n",
      "----      arg: () => {\n",
      "        if (!session) return;\n",
      "\n",
      "        const websocket = new WebSocket(url);\n",
      "\n",
      "        websocket.onopen = () => {\n",
      "            setWebsocket(websocket);\n",
      "            websocket.send(codecs.MessageJsonCodec.encode({type: 'syncRequest'}));\n",
      "        };\n",
      "\n",
      "        // TODO handle onerror\n",
      "        // TODO heartbeat with ping/pong messages\n",
      "\n",
      "        return () => {\n",
      "            websocket.close()\n",
      "        };\n",
      "    }\n",
      "----      arg: [url, session]\n",
      "  Line 41: useEffect(() => {\n",
      "        if (!websocket) return;\n",
      "\n",
      "        websocket.onmessage = (rawmsg: MessageEvent<string>) => {\n",
      "            const recv = codecs.MessageSeqJsonCodec.decode(rawmsg.data);\n",
      "            if (isRight(recv)) {\n",
      "                // TODO make syncRequests more efficient by keeping track of last seq\n",
      "                const { message } = recv.right; \n",
      "                receiver(message);\n",
      "            } else {\n",
      "                // TODO handle decode error\n",
      "            }\n",
      "        };\n",
      "\n",
      "        return () => {\n",
      "            websocket.onmessage = null;\n",
      "        };\n",
      "    }, [websocket, receiver])\n",
      "    args: ['() => {\\n        if (!websocket) return;\\n\\n        websocket.onmessage = (rawmsg: MessageEvent<string>) => {\\n            const recv = codecs.MessageSeqJsonCodec.decode(rawmsg.data);\\n            if (isRight(recv)) {\\n                // TODO make syncRequests more efficient by keeping track of last seq\\n                const { message } = recv.right; \\n                receiver(message);\\n            } else {\\n                // TODO handle decode error\\n            }\\n        };\\n\\n        return () => {\\n            websocket.onmessage = null;\\n        };\\n    }', '[websocket, receiver]']\n",
      "----      arg: () => {\n",
      "        if (!websocket) return;\n",
      "\n",
      "        websocket.onmessage = (rawmsg: MessageEvent<string>) => {\n",
      "            const recv = codecs.MessageSeqJsonCodec.decode(rawmsg.data);\n",
      "            if (isRight(recv)) {\n",
      "                // TODO make syncRequests more efficient by keeping track of last seq\n",
      "                const { message } = recv.right; \n",
      "                receiver(message);\n",
      "            } else {\n",
      "                // TODO handle decode error\n",
      "            }\n",
      "        };\n",
      "\n",
      "        return () => {\n",
      "            websocket.onmessage = null;\n",
      "        };\n",
      "    }\n",
      "----      arg: [websocket, receiver]\n",
      "\n",
      "File: /Users/ralph/projects/spellcast/packages/ui/src/hooks/useSession.ts\n",
      "  Line 29: useEffect(() => {\n",
      "        (async () => {\n",
      "            const existingSession = await getCurrentSession();\n",
      "            if (existingSession) {\n",
      "                setState(SessionState.Joined);\n",
      "                setSession(existingSession);\n",
      "            } else {\n",
      "                setState(SessionState.Waiting);\n",
      "            }\n",
      "        })();\n",
      "    }, [])\n",
      "    args: ['() => {\\n        (async () => {\\n            const existingSession = await getCurrentSession();\\n            if (existingSession) {\\n                setState(SessionState.Joined);\\n                setSession(existingSession);\\n            } else {\\n                setState(SessionState.Waiting);\\n            }\\n        })();\\n    }', '[]']\n",
      "----      arg: () => {\n",
      "        (async () => {\n",
      "            const existingSession = await getCurrentSession();\n",
      "            if (existingSession) {\n",
      "                setState(SessionState.Joined);\n",
      "                setSession(existingSession);\n",
      "            } else {\n",
      "                setState(SessionState.Waiting);\n",
      "            }\n",
      "        })();\n",
      "    }\n",
      "----      arg: []\n",
      "\n",
      "File: /Users/ralph/projects/spellcast/packages/ui/src/app.tsx\n",
      "  Line 66: useEffect(() => {\n",
      "    if (sessionState === SessionState.Joined) {\n",
      "      setRoomFormVal(session!.roomId);\n",
      "      setUsernameFormVal(session!.username);\n",
      "    }\n",
      "  }, [sessionState, session])\n",
      "    args: ['() => {\\n    if (sessionState === SessionState.Joined) {\\n      setRoomFormVal(session!.roomId);\\n      setUsernameFormVal(session!.username);\\n    }\\n  }', '[sessionState, session]']\n",
      "----      arg: () => {\n",
      "    if (sessionState === SessionState.Joined) {\n",
      "      setRoomFormVal(session!.roomId);\n",
      "      setUsernameFormVal(session!.username);\n",
      "    }\n",
      "  }\n",
      "----      arg: [sessionState, session]\n"
     ]
    }
   ],
   "source": [
    "# Find calls to a specific function\n",
    "# Replace 'useState' with any function you want to find calls for\n",
    "function_calls = analyzer.find_function_calls('useEffect', extract_args=True)\n",
    "\n",
    "print(f\"Found {len(function_calls)} files with calls to 'useState'\")\n",
    "\n",
    "# Display a sample of the function calls\n",
    "for file_path, calls in list(function_calls.items())[:3]:\n",
    "    print(f\"\\nFile: {file_path}\")\n",
    "    for call in calls[:2]:  # Show only the first 2 calls per file\n",
    "        print(f\"  Line {call['line']}: {call['text']}\")\n",
    "        if 'args' in call:\n",
    "            print(f\"    args: {call['args']}\")\n",
    "            for arg in call['args']:\n",
    "                print(f\"----      arg: {arg}\")"
   ]
  },
  {
   "cell_type": "markdown",
   "metadata": {},
   "source": [
    "## Class Definitions Analysis\n",
    "\n",
    "Let's analyze class definitions in the codebase."
   ]
  },
  {
   "cell_type": "code",
   "execution_count": 5,
   "metadata": {
    "execution": {
     "iopub.execute_input": "2025-03-10T02:45:04.310078Z",
     "iopub.status.busy": "2025-03-10T02:45:04.309948Z",
     "iopub.status.idle": "2025-03-10T02:45:04.379763Z",
     "shell.execute_reply": "2025-03-10T02:45:04.379441Z"
    }
   },
   "outputs": [
    {
     "name": "stdout",
     "output_type": "stream",
     "text": [
      "Found 7 classes across 4 files\n",
      "\n",
      "Files with the most classes:\n",
      "  /Users/ralph/projects/spellcast/packages/server/src/manager.ts: 2 classes\n",
      "  /Users/ralph/projects/spellcast/packages/common/dist/sync.d.ts: 2 classes\n",
      "  /Users/ralph/projects/spellcast/packages/common/src/sync.ts: 2 classes\n",
      "  /Users/ralph/projects/spellcast/packages/server/dist/manager.d.ts: 1 classes\n"
     ]
    }
   ],
   "source": [
    "# Find all class definitions\n",
    "classes = analyzer.find_class_definitions()\n",
    "\n",
    "# Count classes per file\n",
    "class_counts = {file_path: len(class_list) for file_path, class_list in classes.items()}\n",
    "\n",
    "# Display total class count\n",
    "total_classes = sum(class_counts.values())\n",
    "print(f\"Found {total_classes} classes across {len(classes)} files\")\n",
    "\n",
    "# Show files with the most classes\n",
    "top_files = sorted(class_counts.items(), key=lambda x: x[1], reverse=True)[:5]\n",
    "print(\"\\nFiles with the most classes:\")\n",
    "for file_path, count in top_files:\n",
    "    print(f\"  {file_path}: {count} classes\")"
   ]
  },
  {
   "cell_type": "markdown",
   "metadata": {},
   "source": [
    "## Generate Codebase Statistics\n",
    "\n",
    "Let's generate comprehensive statistics about the codebase."
   ]
  },
  {
   "cell_type": "code",
   "execution_count": 6,
   "metadata": {
    "execution": {
     "iopub.execute_input": "2025-03-10T02:45:04.381167Z",
     "iopub.status.busy": "2025-03-10T02:45:04.381068Z",
     "iopub.status.idle": "2025-03-10T02:45:04.515245Z",
     "shell.execute_reply": "2025-03-10T02:45:04.514982Z"
    }
   },
   "outputs": [
    {
     "name": "stdout",
     "output_type": "stream",
     "text": [
      "Total TypeScript files: 20\n",
      "Total lines of code: 1287\n",
      "Average lines per file: 64.35\n"
     ]
    },
    {
     "data": {
      "image/png": "[encoded data removed]",
      "text/plain": [
       "<Figure size 1000x600 with 1 Axes>"
      ]
     },
     "metadata": {},
     "output_type": "display_data"
    }
   ],
   "source": [
    "# Generate statistics for the codebase\n",
    "stats = analyzer.generate_stats()\n",
    "\n",
    "# Display overview statistics\n",
    "print(f\"Total TypeScript files: {stats['total_files']}\")\n",
    "print(f\"Total lines of code: {stats['total_lines']}\")\n",
    "print(f\"Average lines per file: {stats['avg_lines_per_file']:.2f}\")\n",
    "\n",
    "# Create a DataFrame for the file sizes\n",
    "file_sizes = pd.DataFrame({\n",
    "    'file': [str(Path(file).name) for file in stats['file_sizes'].keys()],\n",
    "    'size': list(stats['file_sizes'].values())\n",
    "})\n",
    "\n",
    "# Plot the distribution of file sizes\n",
    "plt.figure(figsize=(10, 6))\n",
    "sns.histplot(file_sizes['size'], kde=True)\n",
    "plt.title('Distribution of TypeScript File Sizes')\n",
    "plt.xlabel('Lines of Code')\n",
    "plt.ylabel('Frequency')\n",
    "plt.show()"
   ]
  },
  {
   "cell_type": "markdown",
   "metadata": {},
   "source": [
    "## Custom Queries\n",
    "\n",
    "We can use custom TreeSitter queries to find specific patterns in the code."
   ]
  },
  {
   "cell_type": "code",
   "execution_count": 7,
   "metadata": {
    "execution": {
     "iopub.execute_input": "2025-03-10T02:45:04.516619Z",
     "iopub.status.busy": "2025-03-10T02:45:04.516525Z",
     "iopub.status.idle": "2025-03-10T02:45:04.586259Z",
     "shell.execute_reply": "2025-03-10T02:45:04.585933Z"
    }
   },
   "outputs": [
    {
     "name": "stdout",
     "output_type": "stream",
     "text": [
      "Found arrow functions in 0 files\n",
      "Total arrow functions found: 0\n"
     ]
    }
   ],
   "source": [
    "# Example: Find all arrow functions\n",
    "query = \"\"\"\n",
    "(arrow_function) @function\n",
    "\"\"\"\n",
    "\n",
    "arrow_functions = analyzer.custom_query(query)\n",
    "\n",
    "print(f\"Found arrow functions in {len(arrow_functions)} files\")\n",
    "\n",
    "# Count arrow functions per file\n",
    "arrow_counts = {file_path: len(matches) for file_path, matches in arrow_functions.items()}\n",
    "total_arrows = sum(arrow_counts.values())\n",
    "print(f\"Total arrow functions found: {total_arrows}\")\n",
    "\n",
    "# Show a sample of arrow functions\n",
    "for file_path, matches in list(arrow_functions.items())[:2]:\n",
    "    print(f\"\\nFile: {file_path}\")\n",
    "    for match in matches[:3]:  # Show only the first 3 matches per file\n",
    "        print(f\"  Line {match['line']}: {match['text'][:50]}...\" if len(match['text']) > 50 else f\"  Line {match['line']}: {match['text']}\")"
   ]
  },
  {
   "cell_type": "markdown",
   "metadata": {},
   "source": [
    "## Visualizing Code Patterns\n",
    "\n",
    "Let's create some visualizations to better understand the codebase structure."
   ]
  },
  {
   "cell_type": "code",
   "execution_count": 8,
   "metadata": {
    "execution": {
     "iopub.execute_input": "2025-03-10T02:45:04.587632Z",
     "iopub.status.busy": "2025-03-10T02:45:04.587536Z",
     "iopub.status.idle": "2025-03-10T02:45:05.138876Z",
     "shell.execute_reply": "2025-03-10T02:45:05.138571Z"
    }
   },
   "outputs": [
    {
     "name": "stdout",
     "output_type": "stream",
     "text": [
      "Found 0 function_declarations\n",
      "Found 0 arrow_functions\n",
      "Found 0 class_declarations\n",
      "Found 0 interface_declarations\n",
      "Found 0 type_aliases\n",
      "Found 0 export_statements\n",
      "Found 0 import_statements\n"
     ]
    },
    {
     "data": {
      "image/png": "[encoded data removed]",
      "text/plain": [
       "<Figure size 1200x600 with 1 Axes>"
      ]
     },
     "metadata": {},
     "output_type": "display_data"
    }
   ],
   "source": [
    "# Analyze different kinds of nodes in the code\n",
    "node_types = {\n",
    "    'function_declarations': 0,\n",
    "    'arrow_functions': 0,\n",
    "    'class_declarations': 0,\n",
    "    'interface_declarations': 0,\n",
    "    'type_aliases': 0,\n",
    "    'export_statements': 0,\n",
    "    'import_statements': 0\n",
    "}\n",
    "\n",
    "# Custom queries for each node type\n",
    "queries = {\n",
    "    'function_declarations': \"(function_declaration) @func\",\n",
    "    'arrow_functions': \"(arrow_function) @arrow\",\n",
    "    'class_declarations': \"(class_declaration) @class\",\n",
    "    'interface_declarations': \"(interface_declaration) @interface\",\n",
    "    'type_aliases': \"(type_alias_declaration) @type\",\n",
    "    'export_statements': \"(export_statement) @export\",\n",
    "    'import_statements': \"(import_statement) @import\"\n",
    "}\n",
    "\n",
    "# Run each query and count occurrences\n",
    "for node_type, query in queries.items():\n",
    "    results = analyzer.custom_query(query)\n",
    "    count = sum(len(matches) for matches in results.values())\n",
    "    node_types[node_type] = count\n",
    "    print(f\"Found {count} {node_type}\")\n",
    "\n",
    "# Create a bar chart\n",
    "plt.figure(figsize=(12, 6))\n",
    "sns.barplot(x=list(node_types.keys()), y=list(node_types.values()))\n",
    "plt.title('TypeScript Code Patterns')\n",
    "plt.xlabel('Pattern Type')\n",
    "plt.ylabel('Count')\n",
    "plt.xticks(rotation=45)\n",
    "plt.tight_layout()\n",
    "plt.show()"
   ]
  }
 ],
 "metadata": {
  "kernelspec": {
   "display_name": "Python 3 (ipykernel)",
   "language": "python",
   "name": "python3"
  },
  "language_info": {
   "codemirror_mode": {
    "name": "ipython",
    "version": 3
   },
   "file_extension": ".py",
   "mimetype": "text/x-python",
   "name": "python",
   "nbconvert_exporter": "python",
   "pygments_lexer": "ipython3",
   "version": "3.9.6"
  }
 },
 "nbformat": 4,
 "nbformat_minor": 4
}
